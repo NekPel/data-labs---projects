{
 "cells": [
  {
   "cell_type": "code",
   "execution_count": null,
   "metadata": {},
   "outputs": [],
   "source": [
    "import re\n",
    "import random"
   ]
  },
  {
   "cell_type": "markdown",
   "metadata": {},
   "source": [
    "# Main"
   ]
  },
  {
   "cell_type": "code",
   "execution_count": null,
   "metadata": {},
   "outputs": [],
   "source": [
    "#First word\n",
    "words_l= [\"cat\", \"ironhack\", \"dog\", \"academy\", \"mouse\"]\n",
    "r_word= random.choice(words_l)\n",
    "print(\"The secret word has: \" + str(len(r_word)),\"letters\")\n",
    "\n",
    "#Check if it's one letter or a number or special character, \n",
    "#and if the user typed more than one any given letter \n",
    "\n",
    "def char_check(letter):\n",
    "    only_az = (\"abcdefghijklmnopqrstuvwxyz\")\n",
    "    while True:\n",
    "        if (len(letter) != 1) or (letter not in only_az):\n",
    "            letter = input(\"Enter one alphabet characher: \")\n",
    "            letter= letter.lower()\n",
    "      \n",
    "        elif (letter in str(letters_cor)) or (letter in str(letters_wrong)):\n",
    "            letter = input(\"You already used this letter, try again: \")\n",
    "            letter= letter.lower()\n",
    "        else:\n",
    "            return letter\n",
    "\n",
    "\n",
    "#replace the secret word with underscores \n",
    "underscore_word = (\"_\") * len(r_word)\n",
    "print(underscore_word)\n",
    "\n",
    "r_word_list= list(r_word)\n",
    "underscore_word_list = list(underscore_word)\n",
    "\n",
    "\n",
    "letters_cor=[]\n",
    "letters_wrong = []\n",
    "count_guess = 0\n",
    "\n",
    "while True:\n",
    "    letter= input(\"Please enter your letter: \")\n",
    "    letter= letter.lower()\n",
    "    user_char = char_check(letter) \n",
    "    if letter in r_word:\n",
    "        letters_cor.append(letter)\n",
    "        print(\"Your guess is correct!\")\n",
    "        for i in range(len(r_word_list)):\n",
    "            if letter == r_word_list[i]:\n",
    "                letter_pos = i\n",
    "                underscore_word_list[letter_pos] = letter\n",
    "        print(\" \".join(underscore_word_list))\n",
    "    \n",
    "        guessed_word = list(\"\".join(underscore_word_list))\n",
    "        if guessed_word == r_word_list:\n",
    "            print(\"Congradulations!!! You win! \\nYou found the word! -->\", r_word)\n",
    "            break\n",
    "         \n",
    "    else:\n",
    "        print(\"Guess is wrong\")\n",
    "        letters_wrong.append(letter)\n",
    "        print(\"These are the letters you used so far: \", letters_wrong)\n",
    "        print(\"You have guessed: \" + str(count_guess +1) + \" times.\", \n",
    "              \"You have left with\", str(6 - int(count_guess +1)), \"attempts.\")\n",
    "        count_guess += 1\n",
    "        if count_guess == 6:\n",
    "            print(\"You lost.\\nThe secret word is: \", r_word, \"\\nTry next time!\")\n",
    "            break\n",
    "            \n",
    "\n",
    "    \n",
    "    \n"
   ]
  },
  {
   "cell_type": "code",
   "execution_count": null,
   "metadata": {},
   "outputs": [],
   "source": [
    "\n",
    "\n"
   ]
  },
  {
   "cell_type": "code",
   "execution_count": null,
   "metadata": {},
   "outputs": [],
   "source": []
  }
 ],
 "metadata": {
  "kernelspec": {
   "display_name": "Python 3",
   "language": "python",
   "name": "python3"
  },
  "language_info": {
   "codemirror_mode": {
    "name": "ipython",
    "version": 3
   },
   "file_extension": ".py",
   "mimetype": "text/x-python",
   "name": "python",
   "nbconvert_exporter": "python",
   "pygments_lexer": "ipython3",
   "version": "3.8.3"
  }
 },
 "nbformat": 4,
 "nbformat_minor": 4
}
